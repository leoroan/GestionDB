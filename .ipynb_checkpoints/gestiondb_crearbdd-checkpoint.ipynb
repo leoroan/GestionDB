{
 "cells": [
  {
   "cell_type": "code",
   "execution_count": 6,
   "metadata": {},
   "outputs": [],
   "source": [
    "import sqlite3\n",
    "import os\n",
    "con = sqlite3.connect(os.path.join(os.getcwd(),'configuration data','bdd','gestiondb.db'))"
   ]
  },
  {
   "cell_type": "code",
   "execution_count": 7,
   "metadata": {},
   "outputs": [
    {
     "data": {
      "text/plain": [
       "<sqlite3.Cursor at 0x1874e69df10>"
      ]
     },
     "execution_count": 7,
     "metadata": {},
     "output_type": "execute_result"
    }
   ],
   "source": [
    "# create a Cursor object and call its execute() method to perform SQL commands:\n",
    "cur = con.cursor()\n",
    "\n",
    "# Create table\n",
    "cur.execute('''\n",
    "    CREATE TABLE IF NOT EXISTS table_orden (\n",
    "    orden_id INTEGER PRIMARY KEY AUTOINCREMENT,\n",
    "    orden_numero INTEGER NOT NULL UNIQUE,\n",
    "    fecha DATE NOT NULL, \n",
    "    cant_horas INTEGER NOT NULL,\n",
    "    tercero_name TEXT,\n",
    "    tercero_telefono TEXT,\n",
    "    es_servicio TINYINT NOT NUll,\n",
    "    cliente_id INTEGER NOT NULL,  --si no existe hay q crearlo\n",
    "    vehiculo_id INTEGER, -- si no tiene hay q agregarlo/crearlo\n",
    "    FOREIGN KEY(cliente_id) REFERENCES table_clientes(cliente_id),\n",
    "    FOREIGN KEY(vehiculo_id) REFERENCES table_vehiculos(vehiculo_id))\n",
    "    ''')\n",
    "cur.execute('''\n",
    "    CREATE TABLE IF NOT EXISTS table_clientes (\n",
    "    cliente_id INTEGER PRIMARY KEY AUTOINCREMENT,\n",
    "    nombre TEXT NOT NULL,\n",
    "    apellido TEXT NOT NULL,\n",
    "    telefono TEXT NOT NULL UNIQUE,\n",
    "    domicilio TEXT NOT NULL)\n",
    "    ''')\n",
    "cur.execute('''\n",
    "    CREATE TABLE IF NOT EXISTS table_vehiculos (\n",
    "    vehiculo_id INTEGER PRIMARY KEY AUTOINCREMENT,\n",
    "    patente TEXT NOT NULL UNIQUE,\n",
    "    modelo TEXT NOT NULL,\n",
    "    anio DATE NOT NULL,\n",
    "    chasis TEXT NOT NULL UNIQUE,\n",
    "    motor TEXT NOT NULL UNIQUE,\n",
    "    descripcion TEXT,\n",
    "    cliente_id INTEGER NOT NULL,\n",
    "    FOREIGN KEY(cliente_id) REFERENCES table_clientes(cliente_id)) \n",
    "    ''')"
   ]
  },
  {
   "cell_type": "code",
   "execution_count": 8,
   "metadata": {},
   "outputs": [],
   "source": [
    "# We can also close the connection if we are done with it.\n",
    "# Just be sure any changes have been committed or they will be lost.\n",
    "cur.close()\n",
    "con.close()"
   ]
  },
  {
   "cell_type": "code",
   "execution_count": null,
   "metadata": {},
   "outputs": [],
   "source": []
  }
 ],
 "metadata": {
  "kernelspec": {
   "display_name": "Python 3 (ipykernel)",
   "language": "python",
   "name": "python3"
  },
  "language_info": {
   "codemirror_mode": {
    "name": "ipython",
    "version": 3
   },
   "file_extension": ".py",
   "mimetype": "text/x-python",
   "name": "python",
   "nbconvert_exporter": "python",
   "pygments_lexer": "ipython3",
   "version": "3.9.7"
  }
 },
 "nbformat": 4,
 "nbformat_minor": 4
}
